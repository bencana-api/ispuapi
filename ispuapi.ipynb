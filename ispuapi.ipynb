{
 "metadata": {
  "name": ""
 },
 "nbformat": 3,
 "nbformat_minor": 0,
 "worksheets": [
  {
   "cells": [
    {
     "cell_type": "code",
     "collapsed": false,
     "input": [
      "def rmsimilar(data):\n",
      "    d = [] # set new empty list\n",
      "    for x in data:\n",
      "        if x not in d: # if data never in d before\n",
      "            d.append(x)\n",
      "    return d\n",
      "\n",
      "def datacleaner(data):\n",
      "    d = []\n",
      "    for x in range(len(data)):\n",
      "        if 'Tabel Konsentrasi Partikulat' in data:\n",
      "            d.append(data[x])"
     ],
     "language": "python",
     "metadata": {},
     "outputs": []
    },
    {
     "cell_type": "code",
     "collapsed": false,
     "input": [
      "import ispuapi.ispuapi as api\n",
      "import string\n",
      "\n",
      "\n",
      "data = api.getdatabmkg()\n",
      "\n",
      "#for x in range(len(data[52])):\n",
      "#    print x, data[52].split()[x]\n",
      "\n",
      "def rmpnct(d):\n",
      "    n = []\n",
      "    for x in d:\n",
      "        if x in string.letters:\n",
      "            n.append(x)\n",
      "    return ''.join(n)\n",
      "\n",
      "print rmpnct(data[26].split()[5])\n",
      "print rmpnct(data[39].split()[5])\n",
      "print rmpnct(data[52].split()[5])\n",
      "print data[39]    "
     ],
     "language": "python",
     "metadata": {},
     "outputs": [
      {
       "output_type": "stream",
       "stream": "stdout",
       "text": [
        "Medan\n",
        "Pekanbaru\n",
        "Jambi\n",
        "\n",
        "\n",
        "\n",
        "\u00d7\n",
        "Tabel Konsentrasi Partikulat di Pekanbaru, Tanggal :  02 November 2015 \n",
        "\n",
        "\r\n",
        "PEKANBARU, Jam 0 : 43.96\r\n",
        "PEKANBARU, Jam 1 : 43.54\r\n",
        "PEKANBARU, Jam 2 : 44.72\r\n",
        "PEKANBARU, Jam 3 : 46.97\r\n",
        "PEKANBARU, Jam 4 : 44.08\r\n",
        "PEKANBARU, Jam 5 : 38.58\r\n",
        "PEKANBARU, Jam 6 : 50.26\r\n",
        "PEKANBARU, Jam 7 : 50.22\r\n",
        ", Jam 8 : 0.00\n",
        "\n",
        "\n",
        "Tutup\n",
        "\n",
        "\n",
        "\n"
       ]
      }
     ],
     "prompt_number": 18
    },
    {
     "cell_type": "code",
     "collapsed": false,
     "input": [
      "def aqi(daerah):\n",
      "    return brain.getdataispu(cleaner.tolatin1(cleaner.removegarbage(brain.getdata(daerah, getdatabmkg()))).split())\n"
     ],
     "language": "python",
     "metadata": {},
     "outputs": []
    }
   ],
   "metadata": {}
  }
 ]
}